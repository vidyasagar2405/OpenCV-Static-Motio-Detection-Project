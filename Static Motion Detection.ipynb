{
 "cells": [
  {
   "cell_type": "code",
   "execution_count": null,
   "id": "88f9b678-6766-45f4-8f82-97b395fbd4d9",
   "metadata": {},
   "outputs": [],
   "source": [
    "# STATIC MOTION DETECTION WITHIN REGION OF INTREST\n",
    "\n",
    "import cv2\n",
    "import numpy as np\n",
    "\n",
    "## starts capturing video continuously\n",
    "vid = cv2.VideoCapture(0)\n",
    "\n",
    "## get first frame\n",
    "succ1,frame1 = vid.read()\n",
    "\n",
    "if not succ1:\n",
    "    print('Failed to capture')\n",
    "    exit()\n",
    "\n",
    "## color not required for motion detection, so convert to grayscale\n",
    "framegray1 = cv2.cvtColor(frame1, cv2.COLOR_BGR2GRAY)\n",
    "\n",
    "## defining cordinates for croping\n",
    "x1,x2,y1,y2 = 50,500,200,1000\n",
    "\n",
    "while True:\n",
    "    ## further frames reading\n",
    "    succ,frame = vid.read()\n",
    "    if not succ:\n",
    "        break\n",
    "    ## converting to grayscale\n",
    "    framegray = cv2.cvtColor(frame,cv2.COLOR_BGR2GRAY)\n",
    "\n",
    "    ## croping the frames (region of intrest)\n",
    "    roi1 = framegray1[y1:y2,x1:x2]\n",
    "    roi2 = framegray[y1:y2, x1:x2]\n",
    "    \n",
    "    ## subtract to find the differece between frames.\n",
    "    diff = cv2.subtract(roi1,roi2)/255\n",
    "\n",
    "    ## region of intrest.\n",
    "    cv2.rectangle(frame,(x1,y1),(x2,y2),(0,255,0),2) \n",
    "\n",
    "    ## if motion is heavy --> detects motion.\n",
    "    if np.sum(diff) > 1000 :\n",
    "        cv2.putText(frame,'Motion Detected',(100,100),cv2.FONT_HERSHEY_SIMPLEX,3,0,3)\n",
    "        \n",
    "    cv2.imshow('MOTION DETECTION PRoJECT',frame)\n",
    "    if cv2.waitKey(1) in [ord('q'), ord('Q')]:\n",
    "        break\n",
    "\n",
    "    ## updating the frames\n",
    "    framegray1 = framegray\n",
    "\n",
    "cv2.destroyAllWindows()"
   ]
  },
  {
   "cell_type": "code",
   "execution_count": null,
   "id": "36e3cc18-df5e-4405-9daa-6b2a116e9ac9",
   "metadata": {},
   "outputs": [],
   "source": []
  },
  {
   "cell_type": "code",
   "execution_count": null,
   "id": "c1561947-f860-47c0-aee2-32ce3f69e558",
   "metadata": {},
   "outputs": [],
   "source": []
  }
 ],
 "metadata": {
  "kernelspec": {
   "display_name": "Python 3 (ipykernel)",
   "language": "python",
   "name": "python3"
  },
  "language_info": {
   "codemirror_mode": {
    "name": "ipython",
    "version": 3
   },
   "file_extension": ".py",
   "mimetype": "text/x-python",
   "name": "python",
   "nbconvert_exporter": "python",
   "pygments_lexer": "ipython3",
   "version": "3.13.2"
  }
 },
 "nbformat": 4,
 "nbformat_minor": 5
}
